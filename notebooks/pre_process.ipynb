{
 "cells": [
  {
   "cell_type": "markdown",
   "metadata": {},
   "source": [
    "## Pre-process data"
   ]
  },
  {
   "cell_type": "code",
   "execution_count": 119,
   "metadata": {},
   "outputs": [
    {
     "data": {
      "text/html": [
       "<div>\n",
       "<style scoped>\n",
       "    .dataframe tbody tr th:only-of-type {\n",
       "        vertical-align: middle;\n",
       "    }\n",
       "\n",
       "    .dataframe tbody tr th {\n",
       "        vertical-align: top;\n",
       "    }\n",
       "\n",
       "    .dataframe thead th {\n",
       "        text-align: right;\n",
       "    }\n",
       "</style>\n",
       "<table border=\"1\" class=\"dataframe\">\n",
       "  <thead>\n",
       "    <tr style=\"text-align: right;\">\n",
       "      <th></th>\n",
       "      <th>id</th>\n",
       "      <th>comment_text</th>\n",
       "      <th>toxic</th>\n",
       "      <th>severe_toxic</th>\n",
       "      <th>obscene</th>\n",
       "      <th>threat</th>\n",
       "      <th>insult</th>\n",
       "      <th>identity_hate</th>\n",
       "    </tr>\n",
       "  </thead>\n",
       "  <tbody>\n",
       "    <tr>\n",
       "      <th>0</th>\n",
       "      <td>0000997932d777bf</td>\n",
       "      <td>Explanation\\nWhy the edits made under my usern...</td>\n",
       "      <td>0</td>\n",
       "      <td>0</td>\n",
       "      <td>0</td>\n",
       "      <td>0</td>\n",
       "      <td>0</td>\n",
       "      <td>0</td>\n",
       "    </tr>\n",
       "    <tr>\n",
       "      <th>1</th>\n",
       "      <td>000103f0d9cfb60f</td>\n",
       "      <td>D'aww! He matches this background colour I'm s...</td>\n",
       "      <td>0</td>\n",
       "      <td>0</td>\n",
       "      <td>0</td>\n",
       "      <td>0</td>\n",
       "      <td>0</td>\n",
       "      <td>0</td>\n",
       "    </tr>\n",
       "    <tr>\n",
       "      <th>2</th>\n",
       "      <td>000113f07ec002fd</td>\n",
       "      <td>Hey man, I'm really not trying to edit war. It...</td>\n",
       "      <td>0</td>\n",
       "      <td>0</td>\n",
       "      <td>0</td>\n",
       "      <td>0</td>\n",
       "      <td>0</td>\n",
       "      <td>0</td>\n",
       "    </tr>\n",
       "    <tr>\n",
       "      <th>3</th>\n",
       "      <td>0001b41b1c6bb37e</td>\n",
       "      <td>\"\\nMore\\nI can't make any real suggestions on ...</td>\n",
       "      <td>0</td>\n",
       "      <td>0</td>\n",
       "      <td>0</td>\n",
       "      <td>0</td>\n",
       "      <td>0</td>\n",
       "      <td>0</td>\n",
       "    </tr>\n",
       "    <tr>\n",
       "      <th>4</th>\n",
       "      <td>0001d958c54c6e35</td>\n",
       "      <td>You, sir, are my hero. Any chance you remember...</td>\n",
       "      <td>0</td>\n",
       "      <td>0</td>\n",
       "      <td>0</td>\n",
       "      <td>0</td>\n",
       "      <td>0</td>\n",
       "      <td>0</td>\n",
       "    </tr>\n",
       "  </tbody>\n",
       "</table>\n",
       "</div>"
      ],
      "text/plain": [
       "                 id                                       comment_text  toxic  \\\n",
       "0  0000997932d777bf  Explanation\\nWhy the edits made under my usern...      0   \n",
       "1  000103f0d9cfb60f  D'aww! He matches this background colour I'm s...      0   \n",
       "2  000113f07ec002fd  Hey man, I'm really not trying to edit war. It...      0   \n",
       "3  0001b41b1c6bb37e  \"\\nMore\\nI can't make any real suggestions on ...      0   \n",
       "4  0001d958c54c6e35  You, sir, are my hero. Any chance you remember...      0   \n",
       "\n",
       "   severe_toxic  obscene  threat  insult  identity_hate  \n",
       "0             0        0       0       0              0  \n",
       "1             0        0       0       0              0  \n",
       "2             0        0       0       0              0  \n",
       "3             0        0       0       0              0  \n",
       "4             0        0       0       0              0  "
      ]
     },
     "metadata": {},
     "output_type": "display_data"
    },
    {
     "name": "stdout",
     "output_type": "stream",
     "text": [
      "Finalisation of entries to Riverina Template\n",
      "Hi Matt and GW.  I have tried to progress systematically across various road maps to include, as far as I can tell most rural community, hamlet, villages and towns within the template.  The odd ghost town which is not on a conventional map, for example Mitta Mitta and Brushwood will be found as we travel around looking for photographs.   There may be one or two errors which no doubt will be adjusted as we go through and complete articles and additions.  However after combing through the maps tonight and double checking all of the names I think the current list is very complete and you might like to use it for basis of the checklists that you have created/are creating both here and on Wiki Commons. talk...\n",
      "--------------------\n",
      "Ah! I'll see if I can maybe dig something up before the vultures descend again. Just out of interest, why is someone on the other side of the planet interested in the Rochdale Observer?  Fatuorum\n",
      "--------------------\n",
      "I think you could award two points, instead of one, for the .5 criteria. \n",
      "Here is a possible guideline for the tv: all of the events hosted in the current and previous year had to be shown on tv (minimum of 5 events per year)\n",
      "--------------------\n",
      "No problem ... I'll go back and add them to the dozen or so that I've completed ... and will add them to any future conversions. — @\n",
      "--------------------\n",
      "WP:SOCK applies here.\n",
      "--------------------\n",
      "\"\n",
      "Clearly not, therwise I would not have been tagging.\n",
      "About the references: all your references are press releases or announcements by the organizing committee. In most cases, these are not useful as sources. The article misses independent, reliable third party sources.\n",
      "About the copy-editing: the text contain, amongst others, peacock terms, like \"\"affordably-priced items\"\", \"\"Free to attend\"\", and a list of non-notable performers. Maybe the performers are of huge local interest, they are not relevant for wikipedia. Also, the article lacks internal links.\n",
      "About notability: without proper sources, notability can not be judged. A three year old festival with 12.000 visitors is not very convincing. The festivals should show that is more on offer then being just another local festival.\n",
      "Still, it might by that the festival is notable. That is why I not nominated it for deletion, but that I tagged it. Now you can work on the article, without the immediate threat of removal. I know my comments sounds harsh, but I believe that you can improve the article enough to make even me happy.  talk \"\n",
      "--------------------\n",
      "Really? I was working in Category:Artists by nationality, so I am not sure what is wrong with Category:Mongolian artists. Maybe Category:Mongolian sculptors was iffy but I thought every country was created as long as there was an entry. I was doing my own cleanup of someone else's work. What other categories should be added to things like Category:Mongolian artists? Is there a guideline?\n",
      "--------------------\n",
      "for various reasons I suppose. If you have a particular removal in mind, please post the diff. Mostly I think links are removed because they are judged to be fringy and/or extremist.  (ᛏ)\n",
      "--------------------\n",
      "You overtly undertake bold indignantly grotesque coldness over candid kindheartedness. CountyOfKent (talk) \n",
      "\n",
      "Furthermore, unless considerably knowledgeable, you ought undertake avoidance, stay silent. However objectionable, leave everything\n",
      "--------------------\n",
      "(which you need to leave until we resolve this)\n",
      "--------------------\n",
      "Please dont redirect CID episodes page... \n",
      "\n",
      "I have notice that u r quite intersted in Redirecting The episode list of C.i.d to the Main c.i.d article...\n",
      "I dont knw wt is ur problem with it... it is very usefull to me and many other fanc  of c.i.d ... It is the longest running televison show in india. please Dont keep doing it again & again.. Its a request. Keeping that page doesnt harm u in anyway. please\n",
      "--------------------\n",
      "I think you'd be interested in Universaliss's (the various anon users) talk page. Especially Dmcdevit's conclusion that Universaliss's comments on the Qiyamah talk page  were somehow...acceptable...  00:19, July 30, 2005 (UTC)\n",
      "--------------------\n",
      "Videogame Nation interview\n",
      "I'm beginning to upload my vidcap of Matthew Smith's interview at the Videogame Nation exhibition at the Manchester Urbis, here. Suggested citation fields: {{cite interview |last=Smith |first=Matthew |subjectlink=Matthew Smith (games programmer)  |interviewer=Drury, Paul |title=Manic Musings  |url=http://www.urbis.org.uk/page.asp?id=3333 |format=Video |program=Videogame Nation |city=Manchester |date=2009-07-19 }} Subtituting the url for a link to an appropriate video segement.\n",
      "--------------------\n",
      "\"\n",
      "Keep honorary members. Collect is laboring under the misapprehension that a third party observer writing in a reliable source is somehow guilty of violating Wikipedia's guidelines for WP:PRIMARY sources. Of course we accept WP:SECONDARY sources which use primary materials, whatever they may be. The third party observer examines the primary material and passes on to the reader any information judged relevant. Below I have listed some reliable WP:SECONDARY sources.   \n",
      "Domhoff writes \"\"Writers Bret Harte and Mark Twain were made honorary members.\"\"\n",
      "Shoumatoff writes that \"\"Honorary member Richard Nixon, meanwhile, called it 'the most faggy goddamned thing you could ever imagine.'\"\" Shoumatoff also lists Mark Twain as a member.\n",
      "Parry, Albert. Garrets and Pretenders: A History of Bohemianism in America. New York: Covici, Friede, 1933. On page 219 Parry writes that Bret Harte and Mark Twain were made honorary members of the Bohemian Club.\n",
      "\"\"Early Artists of the Bohemian Club: San Francisco as the Center of West Coast Art \"\", Resource Library Magazine. \"\"Mark Twain and Bret Harte were honorary members...\"\"\n",
      "Ben Tarnoff writes in The Bohemians: Mark Twain and the San Francisco Writers Who Reinvented American Literature, page 185, that Ina Coolbrith was \"\"elected\"\" to the position of honorary member.\n",
      "LaRouchite Brian Lantz writes in Executive Intelligence Report November 1982, \"\"Bohemian Grove, Jack London, and the cultishness of California's politics\"\", \"\"Mark Twain was made an honorary member in 1873; Theodore Roosevelt was made an honorary member in 1903.\"\"\n",
      "Stephen J. Mexal writes in Reading for Liberalism: The Overland Monthly and the Writing of the Modern American West, page 249, that \"\"In recent years former secretary of state Henry Kissinger, former president George H. W. Bush, and former defense Donald Rumsfeld have all become members or honorary members.\"\"\"\n",
      "--------------------\n",
      "\"\n",
      "\n",
      "\"\"Founding Father Lee Kuan Yew\"\" wasn't written by me. But it beats addressing him as \"\"First Prime Minister\"\" which I don't think we have been calling him that at the moment. Wouldn't perhaps \"\"Former Minister Mentor\"\" be a better idea? Like I said earlier, if you cannot find the right words to use, or the right source to quote, don't edit. I noticed you going back to several articles I made minor edits to revert. Happy stalking. Apparently you don't have a life. (sorry for ranting on your page strange passerby)\"\n",
      "--------------------\n"
     ]
    }
   ],
   "source": [
    "import pandas as pd\n",
    "import numpy as np\n",
    "import matplotlib.pyplot as plt\n",
    "\n",
    "train_df = pd.read_csv('../data/nlp/toxic-comments/train.csv')\n",
    "display(train_df.head())\n",
    "for txt in train_df.sample(15).comment_text:\n",
    "    print(txt)\n",
    "    print(\"-\"*20)"
   ]
  },
  {
   "cell_type": "markdown",
   "metadata": {},
   "source": [
    "### Pre processing\n",
    "These is some rubbish in the text, but we do not care for now. We simply stack all the toxic comments as a single label"
   ]
  },
  {
   "cell_type": "code",
   "execution_count": 120,
   "metadata": {},
   "outputs": [],
   "source": [
    "def is_toxic(c: pd.Series):\n",
    "    cols = [\"severe_toxic\", \"obscene\", \"threat\", \"insult\", \"identity_hate\"]\n",
    "    return int(any(c[col] == 1 for col in cols))\n",
    "\n",
    "assert is_toxic(train_df.iloc[0]) == False\n",
    "assert is_toxic(train_df[train_df.threat == 1].iloc[0]) == True\n",
    "assert is_toxic(train_df[train_df.obscene == 1].iloc[0]) == True"
   ]
  },
  {
   "cell_type": "markdown",
   "metadata": {},
   "source": [
    "There are observations that we do not have ground truth for "
   ]
  },
  {
   "cell_type": "code",
   "execution_count": 35,
   "metadata": {},
   "outputs": [
    {
     "data": {
      "text/html": [
       "<div>\n",
       "<style scoped>\n",
       "    .dataframe tbody tr th:only-of-type {\n",
       "        vertical-align: middle;\n",
       "    }\n",
       "\n",
       "    .dataframe tbody tr th {\n",
       "        vertical-align: top;\n",
       "    }\n",
       "\n",
       "    .dataframe thead th {\n",
       "        text-align: right;\n",
       "    }\n",
       "</style>\n",
       "<table border=\"1\" class=\"dataframe\">\n",
       "  <thead>\n",
       "    <tr style=\"text-align: right;\">\n",
       "      <th></th>\n",
       "      <th>id</th>\n",
       "      <th>toxic</th>\n",
       "      <th>severe_toxic</th>\n",
       "      <th>obscene</th>\n",
       "      <th>threat</th>\n",
       "      <th>insult</th>\n",
       "      <th>identity_hate</th>\n",
       "    </tr>\n",
       "  </thead>\n",
       "  <tbody>\n",
       "    <tr>\n",
       "      <th>0</th>\n",
       "      <td>00001cee341fdb12</td>\n",
       "      <td>-1</td>\n",
       "      <td>-1</td>\n",
       "      <td>-1</td>\n",
       "      <td>-1</td>\n",
       "      <td>-1</td>\n",
       "      <td>-1</td>\n",
       "    </tr>\n",
       "    <tr>\n",
       "      <th>1</th>\n",
       "      <td>0000247867823ef7</td>\n",
       "      <td>-1</td>\n",
       "      <td>-1</td>\n",
       "      <td>-1</td>\n",
       "      <td>-1</td>\n",
       "      <td>-1</td>\n",
       "      <td>-1</td>\n",
       "    </tr>\n",
       "    <tr>\n",
       "      <th>2</th>\n",
       "      <td>00013b17ad220c46</td>\n",
       "      <td>-1</td>\n",
       "      <td>-1</td>\n",
       "      <td>-1</td>\n",
       "      <td>-1</td>\n",
       "      <td>-1</td>\n",
       "      <td>-1</td>\n",
       "    </tr>\n",
       "    <tr>\n",
       "      <th>3</th>\n",
       "      <td>00017563c3f7919a</td>\n",
       "      <td>-1</td>\n",
       "      <td>-1</td>\n",
       "      <td>-1</td>\n",
       "      <td>-1</td>\n",
       "      <td>-1</td>\n",
       "      <td>-1</td>\n",
       "    </tr>\n",
       "    <tr>\n",
       "      <th>4</th>\n",
       "      <td>00017695ad8997eb</td>\n",
       "      <td>-1</td>\n",
       "      <td>-1</td>\n",
       "      <td>-1</td>\n",
       "      <td>-1</td>\n",
       "      <td>-1</td>\n",
       "      <td>-1</td>\n",
       "    </tr>\n",
       "  </tbody>\n",
       "</table>\n",
       "</div>"
      ],
      "text/plain": [
       "                 id  toxic  severe_toxic  obscene  threat  insult  \\\n",
       "0  00001cee341fdb12     -1            -1       -1      -1      -1   \n",
       "1  0000247867823ef7     -1            -1       -1      -1      -1   \n",
       "2  00013b17ad220c46     -1            -1       -1      -1      -1   \n",
       "3  00017563c3f7919a     -1            -1       -1      -1      -1   \n",
       "4  00017695ad8997eb     -1            -1       -1      -1      -1   \n",
       "\n",
       "   identity_hate  \n",
       "0             -1  \n",
       "1             -1  \n",
       "2             -1  \n",
       "3             -1  \n",
       "4             -1  "
      ]
     },
     "metadata": {},
     "output_type": "display_data"
    }
   ],
   "source": [
    "test_text_df = pd.read_csv('../data/nlp/toxic-comments/test.csv')\n",
    "test_label_df = pd.read_csv('../data/nlp/toxic-comments/test_labels.csv')\n",
    "display(test_label_df.head())"
   ]
  },
  {
   "cell_type": "code",
   "execution_count": 50,
   "metadata": {},
   "outputs": [
    {
     "name": "stdout",
     "output_type": "stream",
     "text": [
      "There are 153164 test observations, and 89186 (0.5823) of them are unlabeled. Leaving 63978 useful\n"
     ]
    }
   ],
   "source": [
    "def ignored(c: pd.Series):\n",
    "    cols = [\"severe_toxic\", \"obscene\", \"threat\", \"insult\", \"identity_hate\"]\n",
    "    return all(c[col] == -1 for col in cols)\n",
    "\n",
    "ignored_mask = test_label_df.apply(ignored, axis=1)\n",
    "num_ignored = sum(ignored_mask)\n",
    "num_obs = len(ignored_mask)\n",
    "print(f'There are {num_obs} test observations, and {num_ignored} ({num_ignored / num_obs :.4f}) of them are unlabeled. Leaving {num_obs - num_ignored} useful')"
   ]
  },
  {
   "cell_type": "markdown",
   "metadata": {},
   "source": [
    "Wow, almost 60% of the test observations are useless. Well there are still almost 64000 left so they will have to do."
   ]
  },
  {
   "cell_type": "code",
   "execution_count": 82,
   "metadata": {},
   "outputs": [],
   "source": [
    "keep_mask = np.logical_not(ignored_mask.values)\n",
    "test_df = pd.concat((test_text_df, test_label_df), axis=1).iloc[keep_mask]"
   ]
  },
  {
   "cell_type": "code",
   "execution_count": 108,
   "metadata": {},
   "outputs": [],
   "source": [
    "def pre_process(df: pd.DataFrame) -> pd.DataFrame:        \n",
    "    return pd.DataFrame({\n",
    "        'comment': df.comment_text,\n",
    "        'toxic': df.apply(is_toxic, axis=1)\n",
    "    })\n",
    "\n",
    "processed_train_df = pre_process(train_df)\n",
    "processed_test_df = pre_process(test_df)"
   ]
  },
  {
   "cell_type": "markdown",
   "metadata": {},
   "source": [
    "Label distributions look representative "
   ]
  },
  {
   "cell_type": "code",
   "execution_count": 116,
   "metadata": {},
   "outputs": [
    {
     "data": {
      "image/png": "[encoded data removed]",
      "text/plain": [
       "<Figure size 432x288 with 1 Axes>"
      ]
     },
     "metadata": {
      "needs_background": "light"
     },
     "output_type": "display_data"
    },
    {
     "data": {
      "image/png": "[encoded data removed]",
      "text/plain": [
       "<Figure size 432x288 with 1 Axes>"
      ]
     },
     "metadata": {
      "needs_background": "light"
     },
     "output_type": "display_data"
    }
   ],
   "source": [
    "processed_train_df.toxic.value_counts().plot(kind='bar', title='Train label distribution')\n",
    "plt.show()\n",
    "processed_test_df.toxic.value_counts().plot(kind='bar', title='Test label distribution')\n",
    "plt.show()"
   ]
  },
  {
   "cell_type": "code",
   "execution_count": 118,
   "metadata": {},
   "outputs": [],
   "source": [
    "processed_train_df.to_csv('../data/nlp/toxic-comments/processed_train.csv')\n",
    "processed_test_df.to_csv('../data/nlp/toxic-comments/processed_test.csv')"
   ]
  }
 ],
 "metadata": {
  "kernelspec": {
   "display_name": "Python 3",
   "language": "python",
   "name": "python3"
  },
  "language_info": {
   "codemirror_mode": {
    "name": "ipython",
    "version": 3
   },
   "file_extension": ".py",
   "mimetype": "text/x-python",
   "name": "python",
   "nbconvert_exporter": "python",
   "pygments_lexer": "ipython3",
   "version": "3.7.4"
  }
 },
 "nbformat": 4,
 "nbformat_minor": 4
}
